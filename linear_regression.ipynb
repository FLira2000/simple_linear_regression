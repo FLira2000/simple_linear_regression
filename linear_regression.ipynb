{
 "metadata": {
  "language_info": {
   "codemirror_mode": {
    "name": "ipython",
    "version": 3
   },
   "file_extension": ".py",
   "mimetype": "text/x-python",
   "name": "python",
   "nbconvert_exporter": "python",
   "pygments_lexer": "ipython3",
   "version": "3.7.7-final"
  },
  "orig_nbformat": 2,
  "kernelspec": {
   "name": "python3",
   "display_name": "Python 3.7.7 64-bit ('base': conda)",
   "metadata": {
    "interpreter": {
     "hash": "ff9b6033e4e5bfa856b14a701d4fbd62eaf3968921bdcaa1c958afdae5de6108"
    }
   }
  }
 },
 "nbformat": 4,
 "nbformat_minor": 2,
 "cells": [
  {
   "source": [
    "<h2>Simple Linear Regression</h2>\n",
    "\n",
    "y = a + bx"
   ],
   "cell_type": "markdown",
   "metadata": {}
  },
  {
   "cell_type": "code",
   "execution_count": 1,
   "metadata": {},
   "outputs": [],
   "source": [
    "Y = [2, 4, 6, 8, 10]\n",
    "x = [6, 12, 18, 24, 30]"
   ]
  },
  {
   "cell_type": "code",
   "execution_count": 2,
   "metadata": {},
   "outputs": [
    {
     "output_type": "execute_result",
     "data": {
      "text/plain": [
       "[6, 12, 18, 24, 30]"
      ]
     },
     "metadata": {},
     "execution_count": 2
    }
   ],
   "source": [
    "x"
   ]
  },
  {
   "cell_type": "code",
   "execution_count": 3,
   "metadata": {},
   "outputs": [],
   "source": [
    "mean_Y = sum(Y)/len(Y)\n",
    "mean_x = sum(x)/len(x)"
   ]
  },
  {
   "cell_type": "code",
   "execution_count": 4,
   "metadata": {},
   "outputs": [
    {
     "output_type": "stream",
     "name": "stdout",
     "text": [
      "Mean of Y: 6.0\nMean of x: 18.0\n"
     ]
    }
   ],
   "source": [
    "print(f'Mean of Y: {mean_Y}\\nMean of x: {mean_x}')"
   ]
  },
  {
   "cell_type": "code",
   "execution_count": 5,
   "metadata": {},
   "outputs": [
    {
     "output_type": "stream",
     "name": "stdout",
     "text": [
      "0.3333333333333333\n"
     ]
    }
   ],
   "source": [
    "a = 0\n",
    "tmp_1 = 0\n",
    "tmp_2 = 0\n",
    "for x, Y in zip(x, Y):\n",
    "    tmp_1 += (x - mean_x) * (Y - mean_Y)\n",
    "    tmp_2 += (x - mean_x)**2\n",
    "\n",
    "a = tmp_1/tmp_2\n",
    "print(a)"
   ]
  },
  {
   "cell_type": "code",
   "execution_count": 6,
   "metadata": {},
   "outputs": [
    {
     "output_type": "stream",
     "name": "stdout",
     "text": [
      "0.0\n"
     ]
    }
   ],
   "source": [
    "b = mean_Y - a*mean_x\n",
    "print(b)"
   ]
  },
  {
   "cell_type": "code",
   "execution_count": 7,
   "metadata": {},
   "outputs": [
    {
     "output_type": "execute_result",
     "data": {
      "text/plain": [
       "6.0"
      ]
     },
     "metadata": {},
     "execution_count": 7
    }
   ],
   "source": [
    "a*mean_x"
   ]
  }
 ]
}